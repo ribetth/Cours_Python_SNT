{
 "cells": [
  {
   "cell_type": "markdown",
   "id": "5a02b282",
   "metadata": {},
   "source": [
    "# <center> LES VARIABLES EN PYTHON\n",
    "    \n",
    "Un programme, dans quelque langage informatique que ce soit, consiste à manipuler des données.\n",
    "Elles peuvent être diverses, mais dans la mémoire de l’ordinateur elles se ramènent toujours à une suite\n",
    "finie de nombres binaires.\n",
    "Pour pouvoir accéder aux données, le programme fait usage d’un grand nombre de variables de différents\n",
    "types. Elles apparaissent sous un nom suivant certaines conventions que nous verront plus tard et qui\n",
    "sont de nos jours largement utilisées. Pour l’ordinateur chaque variable du programme est simplement\n",
    "une référence désignant une adresse mémoire, c’est-à-dire un emplacement précis dans la mémoire vive.\n",
    "A cet emplacement est stocké une valeur bien déterminée, pouvant changée au cours du programme. Il\n",
    "s’agit d’une donnée pouvant être n’importe quel “objet” susceptible d’être stocké dans la mémoire de\n",
    "l’ordinateur. Pour distinguer les divers contenus possibles d’une variable le langage de programmation\n",
    "fait usage de différents types. Le tableau ci-dessous récapitule les types principaux de **variables en Python**.\n",
    "\n",
    "\n",
    "\n",
    "|Type de variable    | Nom en Python | Méthode d'affectation  |\n",
    "| :-------------:    | :-----------: | :--------------------: |\n",
    "|  Nombre entier     |     int       |     a=2                |\n",
    "|Nombre à virgule    |     float     |     a=3.14             |\n",
    "|Chaîne de caractère | str           | a=\"Hello World !\"      |\n",
    "| Booléen            | bool          | a=True                 |\n",
    "|  Tuple             | tuple         |  a=(1,2)               |\n",
    "|  Liste             | list          | a=[1,2,3]              |\n",
    "|  Dictionnaire      | dict          | a={p:1,q:2,r:3}        |\n",
    "    \n",
    "\n",
    "Nous allons maintenant apporter des précisions sur la manière dont les variables sont créées en Python et comment on leur affecte une valeur. Ensuite nous étudierons les spécificités des variables de type **int** et **float**. Les chaînes de caractères, les booléens, les tuples, les listes et les dictionnaires feront l'objets de chapitres à part."
   ]
  },
  {
   "cell_type": "markdown",
   "id": "5b5615fa",
   "metadata": {},
   "source": [
    "##  1. Création et affectation"
   ]
  },
  {
   "cell_type": "markdown",
   "id": "e49c3fdc",
   "metadata": {},
   "source": [
    "Affecter (ou assigner ) une valeur à une variable désigne l’opération par laquelle on établit un lien\n",
    "entre le nom de la variable et son contenu (sa valeur).\n",
    "En Python, comme dans de nombreux langages, cette l’opération d’affectation est représentée par le\n",
    "symbole *=*.\n",
    "En Python il n’est pas nécessaire d’écrire des lignes de programme spécifiques à la définition du type\n",
    "des variables. L’affectation d’une valeur à un nom de variable **crée la variable automatiquement avec le type qui correspond le mieux**.\n",
    "Ceci est une particularité intéressante de Python ainsi que d’autres langages comme le Lisp. On dit que\n",
    "le typage des variables est dynamique, par opposition au typage statique effectué en C++ ou encore\n",
    "en Java où il faut d’abord déclarer par des instructions distinctes le nom et le type des variables, et\n",
    "ensuite seulement leur affecter un contenu compatible avec le type déclaré.\n",
    "Le typage statique est utilisé dans les langages compilés parce qu’il permet d’optimiser l’opération de\n",
    "compilation dont le résultat est un code binaire “figé”."
   ]
  },
  {
   "cell_type": "markdown",
   "id": "1f5e45d4",
   "metadata": {},
   "source": [
    "En Python, une instruction d'affectation, comme par exemple `a=2`, a pour effet de réaliser plusieurs opérations dans la mémoire de l'ordinateur.\n",
    "1. créer et mémoriser un nom de variable ;\n",
    "2. lui attribuer un type bien déterminé ;\n",
    "3. créer et mémoriser une valeur ;\n",
    "4. établir un lien par un système interne de pointeurs entre le nom de la variable et l’emplacement mémoire de la valeur correspondante.\n",
    "Une variable ainsi créées est accessible soit en entrant le nom de la variable dans l’interpréteur, soit en utilisant la fonction ***print()***."
   ]
  },
  {
   "cell_type": "markdown",
   "id": "56bc8521",
   "metadata": {},
   "source": [
    "Bien que, en Python, l’interpréteur devine de quel type est la variable, le programmeur doit le\n",
    "guider en respectant certaines syntaxes. Ainsi la définition d’une variable doit respecter des règles\n",
    "syntaxiques qui correspondent au type de variable.\n",
    "Une fois une variable créée, il est possible d'en connaître (faire afficher) le type grâce à la fonction ***type()***."
   ]
  },
  {
   "cell_type": "markdown",
   "id": "0af027d4",
   "metadata": {},
   "source": [
    "***"
   ]
  },
  {
   "cell_type": "markdown",
   "id": "0ca40c32",
   "metadata": {},
   "source": [
    "#### Exercice :"
   ]
  },
  {
   "cell_type": "markdown",
   "id": "db17dd5b",
   "metadata": {},
   "source": [
    "Compléter les trois programmes suivants de manière à afficher le type de chacune des variables ***a***, ***b*** et ***c***."
   ]
  },
  {
   "cell_type": "code",
   "execution_count": 2,
   "id": "e2f6e9f1",
   "metadata": {},
   "outputs": [],
   "source": [
    "a=2\n"
   ]
  },
  {
   "cell_type": "code",
   "execution_count": null,
   "id": "45e11428",
   "metadata": {},
   "outputs": [],
   "source": [
    "b=4.17\n"
   ]
  },
  {
   "cell_type": "code",
   "execution_count": null,
   "id": "957697b3",
   "metadata": {},
   "outputs": [],
   "source": [
    "c=\"Hello !\"\n"
   ]
  },
  {
   "cell_type": "markdown",
   "id": "1ff7ae57",
   "metadata": {},
   "source": [
    "***"
   ]
  },
  {
   "cell_type": "markdown",
   "id": "e4a97866",
   "metadata": {},
   "source": [
    "On remarque bien la syntaxe utilisée dans les trois instructions précédentes et le type des variable qui diffère. En affectant un nombre entier, on crée une variable de type *int*. S'il s'agit d'un nombre à virgule, la variable sera de type *float*. Et enfin, s'il s'agit d'une succession de caractères écrits entre guillemets, elle sera de type *str* (chaîne de caractère)."
   ]
  },
  {
   "cell_type": "markdown",
   "id": "8bacb092",
   "metadata": {},
   "source": [
    "Dans l'exercice précédent nous avons déclarer trois variables en trois instructions. Il est intéressant de noter qu'en Python ces trois lignes peuvent être condensées en une seule. Par exemple on pourrait écrire :\n",
    "\n",
    "\n",
    "`a,b,c=2,4.17,\"Hello!\"`\n",
    "\n",
    "\n",
    "\n",
    "C'est ce qu'on appelle l'affectation multiple. Une autre manière de faire est `x=y=7` lorsqu'une même valeur est affectée à deux variables. "
   ]
  },
  {
   "cell_type": "markdown",
   "id": "a4a2c502",
   "metadata": {},
   "source": [
    "***"
   ]
  },
  {
   "cell_type": "markdown",
   "id": "87cb14ae",
   "metadata": {},
   "source": [
    "#### Exercice :"
   ]
  },
  {
   "cell_type": "markdown",
   "id": "2b01e90e",
   "metadata": {},
   "source": [
    "Compléter le programme ci-dessous de manière à faire afficher, à l'aide de la fonction ***print()***, les valeurs des variables ***a***, ***b*** et ***c*** préalablement déclarées."
   ]
  },
  {
   "cell_type": "code",
   "execution_count": 3,
   "id": "211a6da9",
   "metadata": {},
   "outputs": [],
   "source": [
    "a,b,c=2,4.17,\"Hello !\"\n"
   ]
  },
  {
   "cell_type": "markdown",
   "id": "8cdae293",
   "metadata": {},
   "source": [
    "***"
   ]
  },
  {
   "cell_type": "markdown",
   "id": "d466b72b",
   "metadata": {},
   "source": [
    "## 2. Convention de nommage des variables"
   ]
  },
  {
   "cell_type": "markdown",
   "id": "a8978103",
   "metadata": {},
   "source": [
    "Il est important, lorsqu'on programme dans n'importe quel langage, de produire un code qui soit lisible et compréhensible par tout le monde, et ce pour plusieurs raisons. \n",
    "\n",
    "1. Il est extrèmement rare qu'un seul programmeur travail sur le code. Le code doit donc être rapidemment compréhensible par n'importe qui, que ce soit des collègues ou camarades qui travaillent également sur le code ou qui seront amenés à l'utiliser dans le futur.\n",
    "2. On n'écrit pas tout un programme en une seule journée. Il faut pouvoir revenir efficacement sur certaines parties des semaines, des mois, voire même des années plus tard.\n",
    "3. Lors des phases de débuggage, il est extrèmement important de pouvoir comprendre immédiatemant à quoi sert un ensemble d'instructions et ce qu'elles font.\n",
    "\n",
    "Pour toutes ces raisons il est important de bien ***commenter le code*** (nous y reviendrons dans un chapitre dédié) et de ***nommer ses variables de manière très explicite***. Par exemple des noms de variables comme *aire* ou *surface* conviennent mieux que *a* ou *s* pour exprimer une surface. "
   ]
  },
  {
   "cell_type": "markdown",
   "id": "84afb26d",
   "metadata": {},
   "source": [
    "En Python les noms des variables doivent obéir à certaines conventions qui sont régulièrement utilisées en informatique, que ce soit dans d’autres langages de programmation ou pour le nommage de fichiers :\n",
    "* Un nom de variable est une séquence de lettres (abc...yzABC...YZ) et de chiffres (012..89), qui doit toujours commencer par une lettre.\n",
    "* Les lettres accentuées, les cédilles, les espaces, les caractères spéciaux tels que les symbols monétaires (dollard, euro, livresterling), \\%, \\#, \\@, etc. sont interdits, à l’exception du caractère _ (souligné). \n",
    "* La case est significative, c’est-à-dire que les caractères majuscules et minuscules sont distingués).\n",
    "Une pratique courante est d’écrire l’essentiel des noms de variables en minuscules, surtout la première lettre. Les majuscules sont utilisées qu’à l’intérieur même du nom, pour en augmenter la lisibilité, comme par exemple *messageCode*. L’utilisation du caractère *_* est également efficace pour rendre le nom d’une variable plus lisible tel que *message_crypte*. Le choix de l’une ou l’autre de ces méthodes est laissée à l’appréciation du programmeur. En plus de ces règles, il est important d’ajouter qu’il existe en Python 33 mots réservés utilisés par le langage lui-même et donc interdits comme nom de variable :"
   ]
  },
  {
   "cell_type": "markdown",
   "id": "eee2a9c0",
   "metadata": {},
   "source": [
    "<table>\n",
    "    <thead>\n",
    "        <tr>\n",
    "            <th colspan=7 align=center> Mots Interdits </th>\n",
    "        </tr>\n",
    "    </thead>\n",
    "    <tbody>\n",
    "        <tr>\n",
    "            <td> and </td>\n",
    "            <td> as </td>\n",
    "            <td> assert </td>\n",
    "            <td> break </td>\n",
    "            <td> class </td>\n",
    "            <td> continue </td>\n",
    "            <td> def </td>\n",
    "            <td> del </td>\n",
    "            <td> elif </td>\n",
    "            <td> else </td>\n",
    "            <td> except </td>\n",
    "        </tr>\n",
    "        <tr>\n",
    "            <td> False </td>\n",
    "            <td> finally </td>\n",
    "            <td> for </td>\n",
    "            <td> from </td>\n",
    "            <td> global </td>\n",
    "            <td> if </td>\n",
    "            <td> import </td>\n",
    "            <td> in </td>\n",
    "            <td> is </td>\n",
    "            <td> lambda </td>\n",
    "            <td> None </td>\n",
    "        </tr>\n",
    "        <tr align=center>\n",
    "            <td> nonlocal </td>\n",
    "            <td> not </td>\n",
    "            <td> or </td>\n",
    "            <td> pass </td>\n",
    "            <td> raise </td>\n",
    "            <td> return </td>\n",
    "            <td> True </td>\n",
    "            <td> try </td>\n",
    "            <td> while </td>\n",
    "            <td> with </td>\n",
    "            <td> yield </td>\n",
    "        </tr>\n",
    "    </tbody>\n",
    "</table>"
   ]
  },
  {
   "cell_type": "markdown",
   "id": "76a89ae5",
   "metadata": {},
   "source": [
    "***"
   ]
  },
  {
   "cell_type": "markdown",
   "id": "36c964df",
   "metadata": {},
   "source": [
    "#### Exercice :"
   ]
  },
  {
   "cell_type": "markdown",
   "id": "32581ab6",
   "metadata": {},
   "source": [
    "En respectant les principes de nommages explicités précédemment, créer des variables contenant :\n",
    "1. le nom\n",
    "2. le prénom\n",
    "3. la date de naissance\n",
    "4. l'âge\n",
    "4. l'adresse mail\n",
    "\n",
    "d'une personne.<br/>\n",
    "Afficher à l'aide de la fonction *print()* la valeur de chaque variable."
   ]
  },
  {
   "cell_type": "code",
   "execution_count": null,
   "id": "cc1c11d6",
   "metadata": {},
   "outputs": [],
   "source": []
  },
  {
   "cell_type": "markdown",
   "id": "4dc9472a",
   "metadata": {},
   "source": [
    "***"
   ]
  },
  {
   "cell_type": "markdown",
   "id": "980f2f4a",
   "metadata": {},
   "source": [
    "## 3. Int, Float et Opérations mathématiques"
   ]
  },
  {
   "cell_type": "markdown",
   "id": "1fda8c67",
   "metadata": {},
   "source": [
    "Nous avons dit précédemment que le typage des variables en Python est dynamique, ce qui a l’avantage de grandement simplifier certaines opérations. Par exemple il est extrêmement simple de multiplier un *int* par un *float* alors que dans d’autres langages de programmation il faut au préalable convertir les variables en un seul et même type."
   ]
  },
  {
   "cell_type": "markdown",
   "id": "bfda27e3",
   "metadata": {},
   "source": [
    "***"
   ]
  },
  {
   "cell_type": "markdown",
   "id": "5af9e98f",
   "metadata": {},
   "source": [
    "#### Exercice :"
   ]
  },
  {
   "cell_type": "markdown",
   "id": "710e8b82",
   "metadata": {},
   "source": [
    "1. Définir une variable ***n*** de type *int* et dont la valeur est *2*, et une variable ***pi*** de type *float* et dont la valeur est *3,14159*.\n",
    "2. Afficher le résultat du produit de ***n*** par ***pi***."
   ]
  },
  {
   "cell_type": "code",
   "execution_count": null,
   "id": "6db56103",
   "metadata": {},
   "outputs": [],
   "source": []
  },
  {
   "cell_type": "markdown",
   "id": "df15140b",
   "metadata": {},
   "source": [
    "***"
   ]
  },
  {
   "cell_type": "markdown",
   "id": "2b21f3da",
   "metadata": {},
   "source": [
    "Nous reverrons lorsque nous travaillerons sur les chaînes de caractères qu'il est même possible en Python de multiplier une variable de type *str* par une de type *int*. Ce qui est impossible dans beaucoup de langages de programmation."
   ]
  },
  {
   "cell_type": "markdown",
   "id": "29ff8c58",
   "metadata": {},
   "source": [
    "***"
   ]
  },
  {
   "cell_type": "markdown",
   "id": "f2829e6f",
   "metadata": {},
   "source": [
    "#### Exercice :"
   ]
  },
  {
   "cell_type": "markdown",
   "id": "99c1bd82",
   "metadata": {},
   "source": [
    "1. Définir une variable ***n*** de type *int* dont la valeur est un entier compris entre 3 et 6, et une variable de type *str* dont la valeur est le mot *Bonjour*.\n",
    "2. Afficher le résultat du produit de ***n*** par ***pi***."
   ]
  },
  {
   "cell_type": "code",
   "execution_count": null,
   "id": "4b48e154",
   "metadata": {},
   "outputs": [],
   "source": []
  },
  {
   "cell_type": "markdown",
   "id": "b7fd98e6",
   "metadata": {},
   "source": [
    "***"
   ]
  },
  {
   "cell_type": "markdown",
   "id": "cd48f656",
   "metadata": {},
   "source": [
    "Python offre une souplesse que n'ont pas d'autres langages comme Java ou C. Toutefois toutes les opérations ne seront pas forcément possibles, comme multiplier une chaîne de caractère par un float, diviser par 0, ou diviser une chaîne de caractère par un nombre. Même si le langage Python est moins contraignant que d’autres, il contient certaines règles à respecter."
   ]
  },
  {
   "cell_type": "markdown",
   "id": "7ddf40f5",
   "metadata": {},
   "source": [
    "Nous allons maintenant parler des opérations sur les nombres, c'est-à-dire sur les variables de types *int* ou *float*. Les opérations sur d'autres types de variables seront étudiées dans des chapitre ultérieurs."
   ]
  },
  {
   "cell_type": "markdown",
   "id": "878d5d9f",
   "metadata": {},
   "source": [
    "Les différentes opérations mathématiques de bases sont résumées dans le tableau ci-dessous :\n",
    "\n",
    "| Opération        | Symbole Python | Exemple d'instruction | Explication du résultat de l'instruction |\n",
    "| :---:            | :---:          | :---:                 | :---:                                    |\n",
    "| Addition         | +              | a+b                   | Calcule la somme de *a* et *b*           |\n",
    "| Soustraction     | -              | a-b                   | Calcule la différence entre *a* et *b*   |\n",
    "| Multiplication   | *              | a\\*b                  | Calcule le produit de *a* par *b*        | \n",
    "| Division         |   /            | a/b                   | Calcule le quotient de *a* par *b*       |\n",
    "| Exponentiation   | **             | a\\*\\*n                | Calcule la puissance *n* de *a*          |\n",
    "| Division entière | //             | a//b                  | Calcule le quotient de la division euclidienne de *a* par *b* |\n",
    "| Modulo           | %              | a%b                   | Calcule le reste de la division euclidienne de *a* par *b* |"
   ]
  },
  {
   "cell_type": "markdown",
   "id": "04015457",
   "metadata": {},
   "source": [
    "***"
   ]
  },
  {
   "cell_type": "markdown",
   "id": "c42832bf",
   "metadata": {},
   "source": [
    "#### Exercice :"
   ]
  },
  {
   "cell_type": "markdown",
   "id": "bf2813b9",
   "metadata": {},
   "source": [
    "Afficher le résultat des calculs suivants :\n",
    "1. $\\dfrac{1}{2}\\Big(\\dfrac{3}{4}+3\\Big)-\\dfrac{4}{7}+\\dfrac{3}{11}$\n",
    "2. $\\dfrac{3\\Big(\\dfrac{3}{4}+1\\Big)-4\\Big(7-\\dfrac{3}{5}\\Big)}{1+\\Big(4-\\dfrac{1}{11}\\Big)^2}$"
   ]
  },
  {
   "cell_type": "code",
   "execution_count": null,
   "id": "2c97c224",
   "metadata": {},
   "outputs": [],
   "source": []
  },
  {
   "cell_type": "code",
   "execution_count": null,
   "id": "f12e1dea",
   "metadata": {},
   "outputs": [],
   "source": []
  },
  {
   "cell_type": "markdown",
   "id": "9b7cef4b",
   "metadata": {},
   "source": [
    "***"
   ]
  },
  {
   "cell_type": "markdown",
   "id": "a72a5eb2",
   "metadata": {},
   "source": [
    "#### Exercice :"
   ]
  },
  {
   "cell_type": "markdown",
   "id": "be4e6177",
   "metadata": {},
   "source": [
    "Afficher le résultat des calculs suivants :\n",
    "1. $2^2$\n",
    "2. $2^6$\n",
    "3. $10^5$\n",
    "4. $10^{-5}$\n",
    "5. $2^4 \\times 3^{-5}$"
   ]
  },
  {
   "cell_type": "code",
   "execution_count": null,
   "id": "8ff88fe9",
   "metadata": {},
   "outputs": [],
   "source": []
  },
  {
   "cell_type": "code",
   "execution_count": null,
   "id": "21d14af7",
   "metadata": {},
   "outputs": [],
   "source": []
  },
  {
   "cell_type": "code",
   "execution_count": null,
   "id": "67740183",
   "metadata": {},
   "outputs": [],
   "source": []
  },
  {
   "cell_type": "code",
   "execution_count": null,
   "id": "46445c35",
   "metadata": {},
   "outputs": [],
   "source": []
  },
  {
   "cell_type": "code",
   "execution_count": null,
   "id": "8caccf91",
   "metadata": {},
   "outputs": [],
   "source": []
  },
  {
   "cell_type": "markdown",
   "id": "1a6b5b30",
   "metadata": {},
   "source": [
    "***"
   ]
  },
  {
   "cell_type": "markdown",
   "id": "916a707a",
   "metadata": {},
   "source": [
    "#### Exercice :"
   ]
  },
  {
   "cell_type": "markdown",
   "id": "45f5dc70",
   "metadata": {},
   "source": [
    "Afficher le quotient puis le reste de la division euclidienne de *145* par *27* et vérifier par un calcul mental le résultat."
   ]
  },
  {
   "cell_type": "code",
   "execution_count": null,
   "id": "bcc9f15a",
   "metadata": {},
   "outputs": [],
   "source": []
  },
  {
   "cell_type": "code",
   "execution_count": null,
   "id": "b72d53ba",
   "metadata": {},
   "outputs": [],
   "source": []
  },
  {
   "cell_type": "markdown",
   "id": "ef7f92e7",
   "metadata": {},
   "source": [
    "***"
   ]
  },
  {
   "cell_type": "markdown",
   "id": "e75b201a",
   "metadata": {},
   "source": [
    "#### Exercice :"
   ]
  },
  {
   "cell_type": "markdown",
   "id": "dca8b0ca",
   "metadata": {},
   "source": [
    "1. Définir deux variables *a* et *b* telles que *a* soit un nombre entier pair et *b* un nombre entier impair.\n",
    "2. Ecrire l'instruction qui permet de calculer le reste de la disivion euclidienne de *a* par *2*.\n",
    "3. Afficher son résultat à l'aide de la fonction *print()*.\n",
    "4. Ecrire l'instruction qui permet de calculer le reste de la disivion euclidienne de *b* par *2*.\n",
    "5. Afficher son résultat à l'aide de la fonction *print()*."
   ]
  },
  {
   "cell_type": "code",
   "execution_count": null,
   "id": "5792796a",
   "metadata": {},
   "outputs": [],
   "source": []
  },
  {
   "cell_type": "markdown",
   "id": "a51e8435",
   "metadata": {},
   "source": [
    "Quels sont les résultats obtenus ?"
   ]
  },
  {
   "cell_type": "markdown",
   "id": "c8b17460",
   "metadata": {},
   "source": []
  },
  {
   "cell_type": "markdown",
   "id": "5135e1e8",
   "metadata": {},
   "source": [
    "En déduire une méthode pour savoir si une variable est un nombre pair ou non."
   ]
  },
  {
   "cell_type": "markdown",
   "id": "788220af",
   "metadata": {},
   "source": []
  },
  {
   "cell_type": "markdown",
   "id": "1dda845a",
   "metadata": {},
   "source": [
    "***"
   ]
  },
  {
   "cell_type": "markdown",
   "id": "ff59037c",
   "metadata": {},
   "source": [
    "Nous venons de travailler sur plusieurs opérations mathématiques. Il faut savoir que Python offre beaucoup d'outils pour effectuer des calculs, tracer des courbes, etc. Pour cela il faut utiliser la bibliothèque ***math*** qui donne accès à beaucoup de fonctions très intéressantes. Cette bibliothèque fera l'objet d'un chapitre à part entière, mais avant il est nécessaire d'étudier et de comprendre ce que sont des ***fonctions*** en programmation et comment elles sont écrites en Python."
   ]
  }
 ],
 "metadata": {
  "kernelspec": {
   "display_name": "Python 3 (ipykernel)",
   "language": "python",
   "name": "python3"
  },
  "language_info": {
   "codemirror_mode": {
    "name": "ipython",
    "version": 3
   },
   "file_extension": ".py",
   "mimetype": "text/x-python",
   "name": "python",
   "nbconvert_exporter": "python",
   "pygments_lexer": "ipython3",
   "version": "3.8.10"
  }
 },
 "nbformat": 4,
 "nbformat_minor": 5
}
