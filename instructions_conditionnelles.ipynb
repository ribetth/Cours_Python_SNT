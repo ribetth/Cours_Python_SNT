{
 "cells": [
  {
   "cell_type": "markdown",
   "id": "fbf2ec7c",
   "metadata": {},
   "source": [
    "# <center> INSTRUCTIONS CONDITIONNELLES"
   ]
  },
  {
   "cell_type": "markdown",
   "id": "54f512dd",
   "metadata": {},
   "source": [
    "Nous allons aborder dans ce chapitre une notion essentielle en programmation, les instructions conditionnelles. Pourquoi essentielle ? Car pas un programme n'en contient pas. Leur intérêt ? Faire en sorte qu'un block d'instructions ne soit exécuté que si certaines conditions sont remplies. Si l'ont reprend l'exemple de la fonction *pythagore* dont nous parlions lors du chapitre sur les fonctions, il est impératif de pouvoir retourner la valeur *True* (oui, le triangle est rectangle) si l'égalité de Pythagore est vérifiée, ou au contraire la valeur *False* (non, il n'est pas rectangle) si l'égalité n'est pas vérifiée. Nous voyons bien que, rien qu'en décrivant le résultat de cette fonction, apparaît la logique :\n",
    "\n",
    "\n",
    "`si .... alors ..... sinon .....`\n",
    "\n",
    "\n"
   ]
  },
  {
   "cell_type": "markdown",
   "id": "69cc2f8a",
   "metadata": {},
   "source": [
    "Dans des instructions conditionnelles du type `si ... alors ....` ou `si ... alors ... sinon ....`, le programme est amené à tester la validité d'une condition. C'est-à-dire tester si une condition est vraie ou fausse. Selon le résultat de ce test certains blocks d'instructions seront exécutés ou non. <br/>\n",
    "Avant de voir les instructions conditionnelles, il nous faut donc étudier ce qu'on appelle les **opérateurs de comparaison**."
   ]
  },
  {
   "cell_type": "markdown",
   "id": "2031b1a7",
   "metadata": {},
   "source": [
    "# 1. Opérateurs de comparaison"
   ]
  },
  {
   "cell_type": "markdown",
   "id": "5f760d6f",
   "metadata": {},
   "source": [
    "Il existe en Python différents opérateurs de comparaison qui permettent de comparer des variables entre elles. Le tableau ci-desous les récapitule et en précise leur fonction."
   ]
  },
  {
   "cell_type": "markdown",
   "id": "4408f373",
   "metadata": {},
   "source": [
    "| Opérateur | Test effectué | Renvoie la valeur *True* si ... | Renvoie la valeur *False* si ... |\n",
    "| :---: | :---: | :---: | :---: |\n",
    "| x < y | Test si le contenu de la variable x est strictement plus petit que celui de la variable y | la valeur contenue dans x est plus petite que celle dans y | la valeur contenue dans x est plus grande ou égale à celle contenue dans y |\n",
    "| x > y | Test si le contenu de la variable x est strictement plus grand que celui de la variable y | la valeur contenue dans x est plus grand que celle dans y | la valeur contenue dans x est plus petite ou égale à celle contenue dans y |\n",
    "| x <= y | Test si le contenu de la variable x est plus petit ou égal à celui de la variable y | la valeur contenue dans x est plus petite ou égale à celle dans y | la valeur contenue dans x est strictement plus grande que celle contenue dans y |\n",
    "| x >= y | Test si le contenu de la variable x est plus grand ou égal à celui de la variable y | la valeur contenue dans x est plus grande ou égale à celle dans y | la valeur contenue dans x est strictement plus petite que celle contenue dans y |\n",
    "| x == y | Test si le contenu de la variable x est égal à celui de la variable y | la valeur contenue dans x est égale à celle dans y | la valeur contenue dans x est différente de celle contenue dans y |\n",
    "| x != y | Test si le contenu de la variable x est différent de celui de la variable y | la valeur contenue dans x est différente de celle dans y | la valeur contenue dans x est égale à celle contenue dans y |"
   ]
  },
  {
   "cell_type": "markdown",
   "id": "21901751",
   "metadata": {},
   "source": [
    "Avec seulement ces quelques opérateurs de comparaison, on peut comparer n'importe quel type de variables, à condition de s'assurer que les deux variables comparées sont de type identique. Nous verrons dans chaque chapitre traitant des variables de type chaîne de caractère, liste, et dictionnaire comment ces opérateurs peuvent être utilisés pour les comparer. En attendant, nous travaillerons uniquement avec des variables de type *int* et *float*."
   ]
  },
  {
   "cell_type": "markdown",
   "id": "67b0fe2b",
   "metadata": {},
   "source": [
    "**IMPORTANT** : le symbole testant l'égalité est ***==*** et non *=*. En effet, le symbole *=* signifie \"affecter la valeur .... à ....\". S'il est utilisé lors d'un test d'égalité, l'interpréteur Python ne comprendra pas et générera donc une erreur. Nous aurons l'occasion de vérifier cela lors d'un exercice."
   ]
  },
  {
   "cell_type": "markdown",
   "id": "51626795",
   "metadata": {},
   "source": [
    "***"
   ]
  },
  {
   "cell_type": "markdown",
   "id": "1107286a",
   "metadata": {},
   "source": [
    "#### Exercice"
   ]
  },
  {
   "cell_type": "markdown",
   "id": "80eaeec0",
   "metadata": {},
   "source": [
    "Exécuter les 8 instructions suivantes et observer les résultats:"
   ]
  },
  {
   "cell_type": "code",
   "execution_count": null,
   "id": "115db38a",
   "metadata": {},
   "outputs": [],
   "source": [
    "1<2"
   ]
  },
  {
   "cell_type": "code",
   "execution_count": null,
   "id": "3ec15df3",
   "metadata": {},
   "outputs": [],
   "source": [
    "2>6"
   ]
  },
  {
   "cell_type": "code",
   "execution_count": null,
   "id": "8a16571b",
   "metadata": {},
   "outputs": [],
   "source": [
    "4!=9"
   ]
  },
  {
   "cell_type": "code",
   "execution_count": null,
   "id": "8c54eca9",
   "metadata": {},
   "outputs": [],
   "source": [
    "a=4\n",
    "b=6\n",
    "a+b==10"
   ]
  },
  {
   "cell_type": "code",
   "execution_count": null,
   "id": "88d5cb8a",
   "metadata": {},
   "outputs": [],
   "source": [
    "x=-2\n",
    "y=9\n",
    "x-y<=-11"
   ]
  },
  {
   "cell_type": "code",
   "execution_count": null,
   "id": "188e7f3d",
   "metadata": {},
   "outputs": [],
   "source": [
    "x=10\n",
    "x%2==0"
   ]
  },
  {
   "cell_type": "code",
   "execution_count": null,
   "id": "e3060372",
   "metadata": {},
   "outputs": [],
   "source": [
    "x=11\n",
    "x%2==0"
   ]
  },
  {
   "cell_type": "code",
   "execution_count": null,
   "id": "0ce5b437",
   "metadata": {},
   "outputs": [],
   "source": [
    "x=291\n",
    "y=39\n",
    "x//y>=10"
   ]
  },
  {
   "cell_type": "markdown",
   "id": "7c6cb903",
   "metadata": {},
   "source": [
    "Quels sont les résultats obtenus ?"
   ]
  },
  {
   "cell_type": "markdown",
   "id": "1dd222fb",
   "metadata": {},
   "source": []
  },
  {
   "cell_type": "markdown",
   "id": "c14e64d3",
   "metadata": {},
   "source": [
    "***"
   ]
  },
  {
   "cell_type": "markdown",
   "id": "bfcf6e42",
   "metadata": {},
   "source": [
    "## 2. Les variables booléennes"
   ]
  },
  {
   "cell_type": "markdown",
   "id": "a2fcfd76",
   "metadata": {},
   "source": [
    "Une variable ne pouvant prendre que deux valeurs, ***True*** ou ***False***, est ce qu'on appelle une variable booléenne. <br/>\n",
    "En Python, il suffit d'affecter l'un de ces deux mots à une variable pour que l'interpréteur la définisse comme étant de type booléen."
   ]
  },
  {
   "cell_type": "markdown",
   "id": "7f152ac9",
   "metadata": {},
   "source": [
    "***"
   ]
  },
  {
   "cell_type": "markdown",
   "id": "88e3aebc",
   "metadata": {},
   "source": [
    "#### Exercice"
   ]
  },
  {
   "cell_type": "markdown",
   "id": "2ebaa6bd",
   "metadata": {},
   "source": [
    "Compléter le programme suivant de manière à faire afficher le type de la variable qui y est définie."
   ]
  },
  {
   "cell_type": "code",
   "execution_count": null,
   "id": "fcd12611",
   "metadata": {},
   "outputs": [],
   "source": [
    "a=True\n"
   ]
  },
  {
   "cell_type": "markdown",
   "id": "8932d1ea",
   "metadata": {},
   "source": [
    "***"
   ]
  },
  {
   "cell_type": "markdown",
   "id": "ade1edbf",
   "metadata": {},
   "source": [
    "Maintenant que nous avons vu comment les conditions sont traités et le type booléen, forme sous laquelle se présente leur résultat, nous allons commencé à étudier les *instructions conditionnelles*. En Python il y en a trois : <br/>\n",
    "`if ... :`, `if ... : ... else: ...` et `if ... : ... elif: ... else: ...`."
   ]
  },
  {
   "cell_type": "markdown",
   "id": "b9aa3d84",
   "metadata": {},
   "source": [
    "## 3. L'instruction *if *"
   ]
  },
  {
   "cell_type": "markdown",
   "id": "de295175",
   "metadata": {},
   "source": [
    "Il s'agit de l'instruction contionnelle basique. Elle traduit une implication : **si ... alors ..** . <br/>\n",
    "Dans beaucoup de langages de programmation, ce block d'instruction est traduit par ***if...then...***. Sa syntaxe Python est la suivante :"
   ]
  },
  {
   "cell_type": "markdown",
   "id": "5f315a29",
   "metadata": {},
   "source": [
    "`if condition : \n",
    "    instruction 1\n",
    "instruction 2`"
   ]
  },
  {
   "cell_type": "markdown",
   "id": "a8ec35ab",
   "metadata": {},
   "source": [
    "Le ***then*** n'existe pas en Python, il est implicite. Remarquons l'indentation, dont nous avons déjà parlé dans le chapitre sur les fonctions. <br/>\n",
    "Le fonctionnement de cette instruction conditionnelle peut être expliqué par le schéma ci-dessous :"
   ]
  },
  {
   "attachments": {
    "graph_if.png": {
     "image/png": "[encoded data removed]"
    }
   },
   "cell_type": "markdown",
   "id": "a663d066",
   "metadata": {},
   "source": [
    "![graph_if.png](attachment:graph_if.png)"
   ]
  },
  {
   "cell_type": "markdown",
   "id": "304bf89f",
   "metadata": {},
   "source": [
    "Lorsque l'instruction *if* est appelée, plusieurs choses se passent :\n",
    "1. la condition est évaluée\n",
    "2. après évaluation, la condition prendra la valeur *True* ou la valeur *False*\n",
    "3. si elle est évaluée à *True*, l'instruction 1, se trouvant juste après le *the* est exécutée\n",
    "4. si elle est évaluée à *False*, l'instruction 1 n'est pas exécutée et le programme passe immédiatement à l'instruction 2 qui suit\n",
    "5. l'instruction 2, qui marque la fin du block *if ... :* est exécutée quoiqu'il arrive."
   ]
  },
  {
   "cell_type": "markdown",
   "id": "4382e8c5",
   "metadata": {},
   "source": [
    "Seules les instructions indentée et suivant le *then:* font partie du block d'instruction conditionnelle. Les instructions suivantes non indentées n'en font pas partie et sont donc exécutée quelque soit le résultat de l'évaluation de la condition."
   ]
  },
  {
   "cell_type": "markdown",
   "id": "717f6c7e",
   "metadata": {},
   "source": [
    "Il est possible d'avoir plusieurs instructions dans un *if*.\n",
    "\n",
    "\n",
    "`if condition:\n",
    "    instruction 1\n",
    "    instruction 2\n",
    "    instruction 3\n",
    "instruction 4`\n",
    "\n",
    "\n"
   ]
  },
  {
   "cell_type": "markdown",
   "id": "30f3eaec",
   "metadata": {},
   "source": [
    "Dans la structure ci-dessus, les instructions 1 à 3 font partie du block *if* alors que l'instruction 4 non. Cette dernière sera exécutée quelque soit le résultat de l'évaluation de la condition."
   ]
  },
  {
   "cell_type": "markdown",
   "id": "cc5cc405",
   "metadata": {},
   "source": [
    "***"
   ]
  },
  {
   "cell_type": "markdown",
   "id": "ebc00b67",
   "metadata": {},
   "source": [
    "#### Exercice"
   ]
  },
  {
   "cell_type": "markdown",
   "id": "838ad483",
   "metadata": {},
   "source": [
    "Exécuter les deux programmes suivants, puis comparer et expliquer les résultats obtenus."
   ]
  },
  {
   "cell_type": "code",
   "execution_count": null,
   "id": "45e64594",
   "metadata": {},
   "outputs": [],
   "source": [
    "x=2\n",
    "if x-2==0 :\n",
    "    print(\"2 est solution de l'équation.\")\n",
    "print(\"Fin du test\")"
   ]
  },
  {
   "cell_type": "code",
   "execution_count": null,
   "id": "1ed04810",
   "metadata": {},
   "outputs": [],
   "source": [
    "x=10\n",
    "if x-2==0 :\n",
    "    print(\"2 est solution de l'équation.\")\n",
    "print(\"Fin du test\")"
   ]
  },
  {
   "cell_type": "markdown",
   "id": "da913586",
   "metadata": {},
   "source": []
  },
  {
   "cell_type": "markdown",
   "id": "c261b0f6",
   "metadata": {},
   "source": [
    "***"
   ]
  },
  {
   "cell_type": "markdown",
   "id": "4e88c9b1",
   "metadata": {},
   "source": [
    "#### Exercice"
   ]
  },
  {
   "cell_type": "markdown",
   "id": "6d774bf5",
   "metadata": {},
   "source": [
    "On considère la fonction mathématique $f$ définie sur $\\mathbb{R}$ par : \n",
    "$$f(x) = x^2+3x-1+\\dfrac{1}{x^2+1}$$\n",
    "Ecrire une fonction qui calcule l'image de $x$ par $f$ seulement si $x$ est un nombre supérieur ou égal à 10, et tester ce programme pour différentes valeurs de $x$."
   ]
  },
  {
   "cell_type": "code",
   "execution_count": null,
   "id": "ef23a5a9",
   "metadata": {},
   "outputs": [],
   "source": []
  },
  {
   "cell_type": "markdown",
   "id": "d78213a6",
   "metadata": {},
   "source": [
    "***"
   ]
  },
  {
   "cell_type": "markdown",
   "id": "63bc85ca",
   "metadata": {},
   "source": [
    "Nous venons de voir la première instruction conditionnelle qui permet d'exécuter un block d'instructions seulement si une condition donnée est évaluée comme étant vraie. Si elle est fausse, le programme n'exécute pas ce block et passe directement aux instructions suivantes. <br/>\n",
    "Ceci peut être pratique pour exécuter des instruction uniquement dans certains cas. Mais comment faire si on souhaite pouvoir exécuter d'autres instructions dans le cas où la condition est fausse ? On utilise alors l'instruction `if ... : .... else : ... `."
   ]
  },
  {
   "cell_type": "markdown",
   "id": "5eeec9b1",
   "metadata": {},
   "source": [
    "## 4. L'instruction *if ... else*"
   ]
  },
  {
   "cell_type": "markdown",
   "id": "4123e366",
   "metadata": {},
   "source": [
    "L'instruction ***if ... else ...*** se traduit par **si ... alors ... sinon ...**. Si une condition est vraie, alors tout un block d'instruction est exécuté, si cette même conditio est fausse, un autre block sera lancé."
   ]
  },
  {
   "cell_type": "markdown",
   "id": "4c06601b",
   "metadata": {},
   "source": [
    "La syntaxe Python de cette instruction est la suivante :\n",
    "\n",
    "\n",
    "`if condition :\n",
    "    instruction 1\n",
    " else :\n",
    "     instruction 2\n",
    " instruction 3`\n",
    " \n",
    " "
   ]
  },
  {
   "cell_type": "markdown",
   "id": "b2640195",
   "metadata": {},
   "source": [
    "Elle suit le schéma logique ci-dessous :"
   ]
  },
  {
   "attachments": {
    "graph_if_else.png": {
     "image/png": "[encoded data removed]"
    }
   },
   "cell_type": "markdown",
   "id": "5815f05d",
   "metadata": {},
   "source": [
    "![graph_if_else.png](attachment:graph_if_else.png)"
   ]
  },
  {
   "cell_type": "markdown",
   "id": "45a149f7",
   "metadata": {},
   "source": [
    "La encore plusieurs choses se passent :\n",
    "1. la condition est évaluée\n",
    "2. si la condition est vraie, alors l'instruction 1 est exécutée (celle du if)\n",
    "3. si la condition est fausse, alors c'est l'instruction 2 qui est exécutée (celle du else)\n",
    "4. ensuite, peu import le résultat de l'évaluation de la condition, le programme sort du block d'instruction conditionnelle et exécute l'instruction 3"
   ]
  },
  {
   "cell_type": "markdown",
   "id": "6536223f",
   "metadata": {},
   "source": [
    "Une fois encore, il est possible de mettre tout un block d'instructions dans le *if* puis un autre block dans le *else*. \n",
    "\n",
    "\n",
    "`if condition :\n",
    "    instruction 1\n",
    "    instruction 2\n",
    "    instruction 3\n",
    " else :\n",
    "    instruction 4\n",
    "    instruction 5\n",
    " instruction 6`"
   ]
  },
  {
   "cell_type": "markdown",
   "id": "c9e9a38d",
   "metadata": {},
   "source": [
    "***"
   ]
  },
  {
   "cell_type": "markdown",
   "id": "0ef0c35a",
   "metadata": {},
   "source": [
    "#### Exercice"
   ]
  },
  {
   "cell_type": "markdown",
   "id": "501e33fc",
   "metadata": {},
   "source": [
    "Exécuter les deux programmes suivants, puis comparer et expliquer les résultats obtenus."
   ]
  },
  {
   "cell_type": "code",
   "execution_count": null,
   "id": "39cd6b39",
   "metadata": {},
   "outputs": [],
   "source": [
    "x=2\n",
    "if x-2==0 :\n",
    "    print(str(x)+\" est solution de l'équation.\")\n",
    "else :\n",
    "    print(str(x)+\" n'est pas solution de l'équation.\")\n",
    "print(\"Fin du test\")"
   ]
  },
  {
   "cell_type": "code",
   "execution_count": null,
   "id": "c9743d35",
   "metadata": {},
   "outputs": [],
   "source": [
    "x=10\n",
    "if x-2==0 :\n",
    "    print(str(x)+\" est solution de l'équation.\")\n",
    "else :\n",
    "    print(str(x)+\" n'est pas solution de l'équation.\")\n",
    "print(\"Fin du test\")"
   ]
  },
  {
   "cell_type": "markdown",
   "id": "55292ebd",
   "metadata": {},
   "source": []
  },
  {
   "cell_type": "markdown",
   "id": "0196a1cb",
   "metadata": {},
   "source": [
    "***"
   ]
  },
  {
   "cell_type": "markdown",
   "id": "f2528b54",
   "metadata": {},
   "source": [
    "#### Exercice"
   ]
  },
  {
   "cell_type": "markdown",
   "id": "2a0e7390",
   "metadata": {},
   "source": [
    "On considère la fonction mathématique $f$ définie sur $\\mathbb{R}$ par :  <br/>\n",
    "$f(x) = x^2+4x-7$ si $x \\geqslant 0$ et $f(x)=-x^2+4x+5$ si $x < 0$ <br/>\n",
    "Ecrire une fonction qui calcule l'image de $x$ par $f$ seulement si $x$ est un nombre supérieur ou égal à 10, et tester ce programme pour différentes valeurs de $x$."
   ]
  },
  {
   "cell_type": "code",
   "execution_count": null,
   "id": "1a41b3eb",
   "metadata": {},
   "outputs": [],
   "source": []
  }
 ],
 "metadata": {
  "kernelspec": {
   "display_name": "Python 3 (ipykernel)",
   "language": "python",
   "name": "python3"
  },
  "language_info": {
   "codemirror_mode": {
    "name": "ipython",
    "version": 3
   },
   "file_extension": ".py",
   "mimetype": "text/x-python",
   "name": "python",
   "nbconvert_exporter": "python",
   "pygments_lexer": "ipython3",
   "version": "3.8.10"
  }
 },
 "nbformat": 4,
 "nbformat_minor": 5
}
