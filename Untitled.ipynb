{
 "cells": [
  {
   "cell_type": "markdown",
   "id": "5a02b282",
   "metadata": {},
   "source": [
    "# <center> LES VARIABLES EN PYTHON\n",
    "\n",
    "Lors des séances d'introduction au langage Python nous avons vu qu'il existe, comme dans n'importe quel autre langage de programmation, plusieurs types de variables. Le tableau ci-dessous récapitule les six types principaux, avec leur nom Python (en Anglais) et leur méthode d'assignation.\n",
    "\n",
    "|Type de variable    | Nom en Python | Méthode d'assignation  |\n",
    "| :-------------:    | :-----------: | :--------------------: |\n",
    "|  Nombre entier     |     int       |     a=2                |\n",
    "|Nombre à virgule    |     float     |     a=3.14             |\n",
    "|Chaîne de caractère | str           | a=\"Hello World !\"      |\n",
    "|  Tuple             | tuple         |  a=(1,2)               |\n",
    "|  Liste             | list          | a=[1,2,3]              |\n",
    "|  Dictionnaire      | dict          | a={p:1,q:2,r:3}        |\n",
    "    \n",
    "Nous allons maintenant apporter des précisions sur la manière sont les variables sont créées en Python et comment on leur affecte une valeur. Ensuite nous étudierons les spécificité des variables de type **int**, **float** et **str**. Les tuples, listes et dictionnaires feront l'objets de chapitres à part."
   ]
  },
  {
   "cell_type": "markdown",
   "id": "5b5615fa",
   "metadata": {},
   "source": [
    "##  1. Création et affectation"
   ]
  },
  {
   "cell_type": "markdown",
   "id": "e49c3fdc",
   "metadata": {},
   "source": [
    "Dans certains langages, comme en C ou en Java, chaque variable est déclarée en précisant sont type, puis, ailleurs dans le code, une valeur lui est assignée. En Python, la création de la variable et la valeur qui lui est affectée sont fait dans la même ligne. De plus, Python sait, sans que le programmeur soit amené à le lui préciser, de quel type de variable il s'agit.\n",
    "Ainsi il est très important de noter que selon la première valeur qui est affectée à la variable sont type sera différent. Par exemple le code `a=2` défini la variable a de type nombre entier (int).\n",
    "Il n'est pas toujours simple de connaître le type d'une variable seulement ne lisant un programme. Pour cela, il existe la fonction **type()** qui renvoie le type de la variable passée en argument. Elle peut s'avérer très utile pour débugger un programme."
   ]
  },
  {
   "cell_type": "markdown",
   "id": "0ca40c32",
   "metadata": {},
   "source": [
    "#### Exercice :"
   ]
  },
  {
   "cell_type": "markdown",
   "id": "db17dd5b",
   "metadata": {},
   "source": [
    "Déclarer deux variables **a** et **b** de la manière suivante :\n",
    "``a=2``\n",
    "``b=4.17``\n",
    "et afficher leur type."
   ]
  },
  {
   "cell_type": "code",
   "execution_count": 3,
   "id": "e2f6e9f1",
   "metadata": {},
   "outputs": [],
   "source": [
    "a=2\n",
    "b=4.17"
   ]
  },
  {
   "cell_type": "code",
   "execution_count": null,
   "id": "45e11428",
   "metadata": {},
   "outputs": [],
   "source": []
  },
  {
   "cell_type": "markdown",
   "id": "8bacb092",
   "metadata": {},
   "source": []
  }
 ],
 "metadata": {
  "kernelspec": {
   "display_name": "Python 3 (ipykernel)",
   "language": "python",
   "name": "python3"
  },
  "language_info": {
   "codemirror_mode": {
    "name": "ipython",
    "version": 3
   },
   "file_extension": ".py",
   "mimetype": "text/x-python",
   "name": "python",
   "nbconvert_exporter": "python",
   "pygments_lexer": "ipython3",
   "version": "3.8.10"
  }
 },
 "nbformat": 4,
 "nbformat_minor": 5
}
